{
 "cells": [
  {
   "cell_type": "code",
   "execution_count": 1,
   "metadata": {},
   "outputs": [
    {
     "name": "stdout",
     "output_type": "stream",
     "text": [
      "Requirement already satisfied: PyMuPDF in c:\\python311\\lib\\site-packages (1.22.5)\n"
     ]
    }
   ],
   "source": [
    "! pip install PyMuPDF"
   ]
  },
  {
   "cell_type": "code",
   "execution_count": 4,
   "metadata": {},
   "outputs": [],
   "source": [
    "import re\n",
    "import fitz  # PyMuPDF\n",
    "\n",
    "def remove_authors(text):\n",
    "    # Implement your logic to remove author names here\n",
    "    # You can use regular expressions or any other method suitable for your use case\n",
    "    # For demonstration purposes, we will remove names enclosed in brackets (e.g., [John Doe])\n",
    "    return re.sub(r'\\[.*?\\]', '', text)\n",
    "\n",
    "def remove_figures(text):\n",
    "    # Implement your logic to remove figures here\n",
    "    # You can use regular expressions or any other method suitable for your use case\n",
    "    # For demonstration purposes, we will remove text like \"[Figure 1]\", \"[Figure 2]\", etc.\n",
    "    return re.sub(r'\\[Figure \\d+\\]', '', text)\n",
    "\n",
    "def remove_citations(text):\n",
    "    # Implement your logic to remove citations here\n",
    "    # You can use regular expressions or any other method suitable for your use case\n",
    "    # For demonstration purposes, we will remove text like \"[1]\", \"[2]\", etc.\n",
    "    return re.sub(r'\\[\\d+\\]', '', text)\n",
    "\n",
    "def remove_manualreferences(text):\n",
    "    #proposed by Poteete et al. (2010) so it removes the reference in the text 'Poteete et al. (2010)'\n",
    "    return re.sub(r'[A-Z][a-z]+\\set al\\.\\s\\([0-9]{4}\\)', '', text)\n",
    "\n",
    "def remove_references(text):\n",
    "    # Implement your logic to remove references here\n",
    "    # You can use regular expressions or any other method suitable for your use case\n",
    "    # For demonstration purposes, we will remove text like \"References\", \"Bibliography\", etc.\n",
    "    return re.sub(r'References|Bibliography', '', text, flags=re.IGNORECASE)\n",
    "\n",
    "def process_pdf(input_file, output_file):\n",
    "    doc = fitz.open(input_file)\n",
    "    all_text = \"\"\n",
    "    for page in doc:\n",
    "        page_text = page.get_text()\n",
    "        all_text += page_text\n",
    "\n",
    "    # Apply text processing functions to remove unwanted elements\n",
    "    cleaned_text = remove_authors(all_text)\n",
    "    cleaned_text = remove_figures(cleaned_text)\n",
    "    cleaned_text = remove_citations(cleaned_text)\n",
    "    cleaned_text = remove_references(cleaned_text)\n",
    "    cleaned_text = remove_manualreferences(cleaned_text)\n",
    "    # Write the cleaned text to the output file\n",
    "    with open(output_file, 'w', encoding='utf-8') as file:\n",
    "        file.write(cleaned_text)\n",
    "\n",
    "    doc.close()\n",
    "\n",
    "if __name__ == \"__main__\":\n",
    "    input_pdf_file = \"Privacy_Threat_MOdeling_Language.pdf\"\n",
    "    output_text_file = \"Privacy_Threat_MOdeling_Language.txt\"\n",
    "    process_pdf(input_pdf_file, output_text_file)\n"
   ]
  },
  {
   "cell_type": "code",
   "execution_count": 1,
   "metadata": {},
   "outputs": [
    {
     "name": "stdout",
     "output_type": "stream",
     "text": [
      "Moreover, we elaborate on how these methods have led to improved insights into the theoretical framework proposed by  and  and something\n"
     ]
    }
   ],
   "source": [
    "import re\n",
    "s = \"Moreover, we elaborate on how these methods have led to improved insights into the theoretical framework proposed by Poteete et al. (2010) and Someone et al. (2010) and something\"\n",
    "print (re.sub(r'[A-Z][a-z]+\\set al\\.\\s\\([0-9]{4}\\)','',s))"
   ]
  }
 ],
 "metadata": {
  "kernelspec": {
   "display_name": "Python 3",
   "language": "python",
   "name": "python3"
  },
  "language_info": {
   "codemirror_mode": {
    "name": "ipython",
    "version": 3
   },
   "file_extension": ".py",
   "mimetype": "text/x-python",
   "name": "python",
   "nbconvert_exporter": "python",
   "pygments_lexer": "ipython3",
   "version": "3.11.4"
  },
  "orig_nbformat": 4
 },
 "nbformat": 4,
 "nbformat_minor": 2
}
