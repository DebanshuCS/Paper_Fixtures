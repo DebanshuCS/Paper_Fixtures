{
 "cells": [
  {
   "cell_type": "code",
   "execution_count": 2,
   "metadata": {},
   "outputs": [],
   "source": [
    "import pandas as pd\n",
    "train_data = pd.read_csv(\"2020Feb_Train.csv\")"
   ]
  },
  {
   "cell_type": "code",
   "execution_count": 5,
   "metadata": {},
   "outputs": [],
   "source": [
    "import pandas as pd\n",
    "test_data = pd.read_csv('2020Feb_Test.csv')"
   ]
  },
  {
   "cell_type": "code",
   "execution_count": 6,
   "metadata": {},
   "outputs": [
    {
     "data": {
      "text/html": [
       "<div>\n",
       "<style scoped>\n",
       "    .dataframe tbody tr th:only-of-type {\n",
       "        vertical-align: middle;\n",
       "    }\n",
       "\n",
       "    .dataframe tbody tr th {\n",
       "        vertical-align: top;\n",
       "    }\n",
       "\n",
       "    .dataframe thead th {\n",
       "        text-align: right;\n",
       "    }\n",
       "</style>\n",
       "<table border=\"1\" class=\"dataframe\">\n",
       "  <thead>\n",
       "    <tr style=\"text-align: right;\">\n",
       "      <th></th>\n",
       "      <th>event_time</th>\n",
       "      <th>event_type</th>\n",
       "      <th>product_id</th>\n",
       "      <th>category_id</th>\n",
       "      <th>category_code</th>\n",
       "      <th>brand</th>\n",
       "      <th>price</th>\n",
       "      <th>user_id</th>\n",
       "      <th>user_session</th>\n",
       "    </tr>\n",
       "  </thead>\n",
       "  <tbody>\n",
       "    <tr>\n",
       "      <th>0</th>\n",
       "      <td>2020-02-01 00:00:01 UTC</td>\n",
       "      <td>cart</td>\n",
       "      <td>5844305</td>\n",
       "      <td>1.487580e+18</td>\n",
       "      <td>NaN</td>\n",
       "      <td>NaN</td>\n",
       "      <td>2.14</td>\n",
       "      <td>485174092</td>\n",
       "      <td>4be9643a-420b-4c6b-83dd-a15e772fbf7a</td>\n",
       "    </tr>\n",
       "    <tr>\n",
       "      <th>1</th>\n",
       "      <td>2020-02-01 00:00:03 UTC</td>\n",
       "      <td>view</td>\n",
       "      <td>5769925</td>\n",
       "      <td>1.487580e+18</td>\n",
       "      <td>NaN</td>\n",
       "      <td>kapous</td>\n",
       "      <td>4.22</td>\n",
       "      <td>594621622</td>\n",
       "      <td>a88baf11-9cd0-4362-bde4-1bfeed3f641d</td>\n",
       "    </tr>\n",
       "    <tr>\n",
       "      <th>2</th>\n",
       "      <td>2020-02-01 00:00:08 UTC</td>\n",
       "      <td>view</td>\n",
       "      <td>5817765</td>\n",
       "      <td>1.487580e+18</td>\n",
       "      <td>NaN</td>\n",
       "      <td>zeitun</td>\n",
       "      <td>11.03</td>\n",
       "      <td>495404942</td>\n",
       "      <td>3a569c8d-d848-4f09-a925-33f673d84c46</td>\n",
       "    </tr>\n",
       "    <tr>\n",
       "      <th>3</th>\n",
       "      <td>2020-02-01 00:00:11 UTC</td>\n",
       "      <td>view</td>\n",
       "      <td>5877033</td>\n",
       "      <td>1.487580e+18</td>\n",
       "      <td>NaN</td>\n",
       "      <td>milv</td>\n",
       "      <td>3.49</td>\n",
       "      <td>564814969</td>\n",
       "      <td>7feb39e5-bb7b-4b2b-a546-3e3b7c56326e</td>\n",
       "    </tr>\n",
       "    <tr>\n",
       "      <th>4</th>\n",
       "      <td>2020-02-01 00:00:12 UTC</td>\n",
       "      <td>cart</td>\n",
       "      <td>5814871</td>\n",
       "      <td>1.487580e+18</td>\n",
       "      <td>NaN</td>\n",
       "      <td>zinger</td>\n",
       "      <td>2.54</td>\n",
       "      <td>551205603</td>\n",
       "      <td>106a7c7f-7fa1-4463-8bec-0ea7b02191cb</td>\n",
       "    </tr>\n",
       "  </tbody>\n",
       "</table>\n",
       "</div>"
      ],
      "text/plain": [
       "                event_time event_type  product_id   category_id category_code  \\\n",
       "0  2020-02-01 00:00:01 UTC       cart     5844305  1.487580e+18           NaN   \n",
       "1  2020-02-01 00:00:03 UTC       view     5769925  1.487580e+18           NaN   \n",
       "2  2020-02-01 00:00:08 UTC       view     5817765  1.487580e+18           NaN   \n",
       "3  2020-02-01 00:00:11 UTC       view     5877033  1.487580e+18           NaN   \n",
       "4  2020-02-01 00:00:12 UTC       cart     5814871  1.487580e+18           NaN   \n",
       "\n",
       "    brand  price    user_id                          user_session  \n",
       "0     NaN   2.14  485174092  4be9643a-420b-4c6b-83dd-a15e772fbf7a  \n",
       "1  kapous   4.22  594621622  a88baf11-9cd0-4362-bde4-1bfeed3f641d  \n",
       "2  zeitun  11.03  495404942  3a569c8d-d848-4f09-a925-33f673d84c46  \n",
       "3    milv   3.49  564814969  7feb39e5-bb7b-4b2b-a546-3e3b7c56326e  \n",
       "4  zinger   2.54  551205603  106a7c7f-7fa1-4463-8bec-0ea7b02191cb  "
      ]
     },
     "execution_count": 6,
     "metadata": {},
     "output_type": "execute_result"
    }
   ],
   "source": [
    "train_data.head()"
   ]
  },
  {
   "cell_type": "code",
   "execution_count": null,
   "metadata": {},
   "outputs": [],
   "source": []
  }
 ],
 "metadata": {
  "kernelspec": {
   "display_name": "Python 3",
   "language": "python",
   "name": "python3"
  },
  "language_info": {
   "codemirror_mode": {
    "name": "ipython",
    "version": 3
   },
   "file_extension": ".py",
   "mimetype": "text/x-python",
   "name": "python",
   "nbconvert_exporter": "python",
   "pygments_lexer": "ipython3",
   "version": "3.11.4"
  },
  "orig_nbformat": 4
 },
 "nbformat": 4,
 "nbformat_minor": 2
}
